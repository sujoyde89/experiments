{
  "nbformat": 4,
  "nbformat_minor": 0,
  "metadata": {
    "kernelspec": {
      "name": "python3",
      "display_name": "Python 3"
    },
    "language_info": {
      "codemirror_mode": {
        "name": "ipython",
        "version": 3
      },
      "file_extension": ".py",
      "mimetype": "text/x-python",
      "name": "python",
      "nbconvert_exporter": "python",
      "pygments_lexer": "ipython3",
      "version": "3.6.5"
    },
    "colab": {
      "name": "transfer_learing_keras.ipynb",
      "version": "0.3.2",
      "provenance": [],
      "collapsed_sections": []
    },
    "accelerator": "GPU"
  },
  "cells": [
    {
      "cell_type": "code",
      "metadata": {
        "id": "H98Ncw1k7QWM",
        "colab_type": "code",
        "colab": {}
      },
      "source": [
        "import os\n",
        "from os import listdir\n",
        "from os.path import isfile, join"
      ],
      "execution_count": 0,
      "outputs": []
    },
    {
      "cell_type": "code",
      "metadata": {
        "id": "Cf1Qud897QWT",
        "colab_type": "code",
        "colab": {}
      },
      "source": [
        "from sklearn.metrics import cohen_kappa_score\n",
        "from sklearn.model_selection import train_test_split\n",
        "from sklearn.preprocessing import LabelEncoder\n",
        "import pandas as pd\n",
        "import numpy as np\n",
        "import tensorflow as tf\n",
        "from keras.models import Model\n",
        "from keras.layers import Dense, Dropout, GlobalAveragePooling2D, BatchNormalization, Activation\n",
        "from keras.preprocessing.image import load_img, img_to_array, ImageDataGenerator\n",
        "from keras.optimizers import Adam\n",
        "from keras.applications import resnet50\n",
        "from keras.applications import DenseNet121\n",
        "from keras.utils import to_categorical\n",
        "import matplotlib.pyplot as plt\n",
        "%matplotlib inline"
      ],
      "execution_count": 0,
      "outputs": []
    },
    {
      "cell_type": "code",
      "metadata": {
        "id": "QBAoN_OA9S2T",
        "colab_type": "code",
        "colab": {
          "base_uri": "https://localhost:8080/",
          "height": 33
        },
        "outputId": "73760a5e-2434-416f-b281-a9dd97750659"
      },
      "source": [
        "from google.colab import drive\n",
        "drive.mount('/content/drive')"
      ],
      "execution_count": 3,
      "outputs": [
        {
          "output_type": "stream",
          "text": [
            "Drive already mounted at /content/drive; to attempt to forcibly remount, call drive.mount(\"/content/drive\", force_remount=True).\n"
          ],
          "name": "stdout"
        }
      ]
    },
    {
      "cell_type": "code",
      "metadata": {
        "id": "3mH0O0va9ghp",
        "colab_type": "code",
        "colab": {
          "base_uri": "https://localhost:8080/",
          "height": 50
        },
        "outputId": "de0245aa-f56f-4be5-afc6-7e337ca36db2"
      },
      "source": [
        "!ls \"/content/drive/My Drive/Colab Notebooks/experiments\""
      ],
      "execution_count": 4,
      "outputs": [
        {
          "output_type": "stream",
          "text": [
            "cifar10_cnn.ipynb\tdataset\n",
            "cifar10_resnet50.ipynb\ttransfer_learing_keras.ipynb\n"
          ],
          "name": "stdout"
        }
      ]
    },
    {
      "cell_type": "code",
      "metadata": {
        "id": "WoKd7wRDOUi5",
        "colab_type": "code",
        "colab": {}
      },
      "source": [
        "np.random.seed(12)\n",
        "tf.set_random_seed(12)"
      ],
      "execution_count": 0,
      "outputs": []
    },
    {
      "cell_type": "code",
      "metadata": {
        "scrolled": true,
        "id": "ApPHPT2K7QWc",
        "colab_type": "code",
        "colab": {
          "base_uri": "https://localhost:8080/",
          "height": 33
        },
        "outputId": "278b3153-b16a-417a-d3de-604b17fbfd74"
      },
      "source": [
        "parent_dir = '/content/drive/My Drive/Colab Notebooks/experiments/dataset'\n",
        "sub_dirs = next(os.walk(parent_dir))[1]\n",
        "print (sub_dirs)"
      ],
      "execution_count": 6,
      "outputs": [
        {
          "output_type": "stream",
          "text": [
            "['person', 'bicycle', 'cow', 'bus', 'car', 'bird', 'diningtable', 'cat', 'horse', 'chair', 'dog', 'bottle', 'aeroplane', 'pottedplant', 'boat', 'motorbike']\n"
          ],
          "name": "stdout"
        }
      ]
    },
    {
      "cell_type": "markdown",
      "metadata": {
        "id": "vzhdpRCA7QWg",
        "colab_type": "text"
      },
      "source": [
        "We have 16 folders containing images from the above mentioned categories.  \n",
        "Now we will create a dataframe containing category, file_name, and encoding of the catgeory."
      ]
    },
    {
      "cell_type": "code",
      "metadata": {
        "id": "QaNWNMve7QWh",
        "colab_type": "code",
        "colab": {}
      },
      "source": [
        "files_details = []\n",
        "for sub_dir in sub_dirs:\n",
        "    dir_path = join(parent_dir, sub_dir)\n",
        "    files = [f for f in listdir(dir_path) if isfile(join(dir_path, f))]\n",
        "    for file in files:\n",
        "        file_detail = {}\n",
        "        file_detail['class'] = sub_dir\n",
        "        file_detail['path'] = join(parent_dir, sub_dir, file)\n",
        "        if os.path.getsize(file_detail['path'])>0:\n",
        "            files_details.append(file_detail)\n",
        "        else:\n",
        "            pass\n",
        "        \n",
        "lbl = LabelEncoder()\n",
        "df = pd.DataFrame(files_details)\n",
        "df['class_encoded'] = lbl.fit_transform(df['class'])"
      ],
      "execution_count": 0,
      "outputs": []
    },
    {
      "cell_type": "code",
      "metadata": {
        "id": "ZSVZFyBV7QWl",
        "colab_type": "code",
        "colab": {
          "base_uri": "https://localhost:8080/",
          "height": 191
        },
        "outputId": "b20b1f6a-3f61-4129-af1d-486b73add402"
      },
      "source": [
        "df.head()"
      ],
      "execution_count": 8,
      "outputs": [
        {
          "output_type": "execute_result",
          "data": {
            "text/html": [
              "<div>\n",
              "<style scoped>\n",
              "    .dataframe tbody tr th:only-of-type {\n",
              "        vertical-align: middle;\n",
              "    }\n",
              "\n",
              "    .dataframe tbody tr th {\n",
              "        vertical-align: top;\n",
              "    }\n",
              "\n",
              "    .dataframe thead th {\n",
              "        text-align: right;\n",
              "    }\n",
              "</style>\n",
              "<table border=\"1\" class=\"dataframe\">\n",
              "  <thead>\n",
              "    <tr style=\"text-align: right;\">\n",
              "      <th></th>\n",
              "      <th>class</th>\n",
              "      <th>path</th>\n",
              "      <th>class_encoded</th>\n",
              "    </tr>\n",
              "  </thead>\n",
              "  <tbody>\n",
              "    <tr>\n",
              "      <th>0</th>\n",
              "      <td>person</td>\n",
              "      <td>/content/drive/My Drive/Colab Notebooks/experi...</td>\n",
              "      <td>14</td>\n",
              "    </tr>\n",
              "    <tr>\n",
              "      <th>1</th>\n",
              "      <td>person</td>\n",
              "      <td>/content/drive/My Drive/Colab Notebooks/experi...</td>\n",
              "      <td>14</td>\n",
              "    </tr>\n",
              "    <tr>\n",
              "      <th>2</th>\n",
              "      <td>person</td>\n",
              "      <td>/content/drive/My Drive/Colab Notebooks/experi...</td>\n",
              "      <td>14</td>\n",
              "    </tr>\n",
              "    <tr>\n",
              "      <th>3</th>\n",
              "      <td>person</td>\n",
              "      <td>/content/drive/My Drive/Colab Notebooks/experi...</td>\n",
              "      <td>14</td>\n",
              "    </tr>\n",
              "    <tr>\n",
              "      <th>4</th>\n",
              "      <td>person</td>\n",
              "      <td>/content/drive/My Drive/Colab Notebooks/experi...</td>\n",
              "      <td>14</td>\n",
              "    </tr>\n",
              "  </tbody>\n",
              "</table>\n",
              "</div>"
            ],
            "text/plain": [
              "    class                                               path  class_encoded\n",
              "0  person  /content/drive/My Drive/Colab Notebooks/experi...             14\n",
              "1  person  /content/drive/My Drive/Colab Notebooks/experi...             14\n",
              "2  person  /content/drive/My Drive/Colab Notebooks/experi...             14\n",
              "3  person  /content/drive/My Drive/Colab Notebooks/experi...             14\n",
              "4  person  /content/drive/My Drive/Colab Notebooks/experi...             14"
            ]
          },
          "metadata": {
            "tags": []
          },
          "execution_count": 8
        }
      ]
    },
    {
      "cell_type": "code",
      "metadata": {
        "scrolled": true,
        "id": "BT-o42_C7QWo",
        "colab_type": "code",
        "colab": {
          "base_uri": "https://localhost:8080/",
          "height": 33
        },
        "outputId": "7196dc68-e20b-4e39-fff8-f2444cc80e5f"
      },
      "source": [
        "df.shape, df['class'].nunique()"
      ],
      "execution_count": 9,
      "outputs": [
        {
          "output_type": "execute_result",
          "data": {
            "text/plain": [
              "((793, 3), 16)"
            ]
          },
          "metadata": {
            "tags": []
          },
          "execution_count": 9
        }
      ]
    },
    {
      "cell_type": "markdown",
      "metadata": {
        "id": "_nE1-uWn7QWt",
        "colab_type": "text"
      },
      "source": [
        "It is a small dataset. 793 images are present and the number of categories present are 16"
      ]
    },
    {
      "cell_type": "code",
      "metadata": {
        "id": "dwkazsw37QWv",
        "colab_type": "code",
        "colab": {
          "base_uri": "https://localhost:8080/",
          "height": 293
        },
        "outputId": "68ee648b-0b34-4b5e-d969-2d35b561322d"
      },
      "source": [
        "df['class'].value_counts()"
      ],
      "execution_count": 10,
      "outputs": [
        {
          "output_type": "execute_result",
          "data": {
            "text/plain": [
              "bus            50\n",
              "cat            50\n",
              "horse          50\n",
              "chair          50\n",
              "bottle         50\n",
              "person         50\n",
              "dog            50\n",
              "motorbike      50\n",
              "cow            50\n",
              "diningtable    50\n",
              "car            50\n",
              "aeroplane      50\n",
              "bicycle        50\n",
              "bird           50\n",
              "boat           50\n",
              "pottedplant    43\n",
              "Name: class, dtype: int64"
            ]
          },
          "metadata": {
            "tags": []
          },
          "execution_count": 10
        }
      ]
    },
    {
      "cell_type": "markdown",
      "metadata": {
        "id": "SUKJsXRg7QW0",
        "colab_type": "text"
      },
      "source": [
        "The number of images belonging to a category is around 50"
      ]
    },
    {
      "cell_type": "code",
      "metadata": {
        "id": "2FG4ebKX7QW1",
        "colab_type": "code",
        "colab": {}
      },
      "source": [
        "# function for getting the image values in the dataframe\n",
        "def get_np_images(x):\n",
        "    original_image = load_img(x, target_size=(256, 256))\n",
        "    numpy_image = img_to_array(original_image)\n",
        "    #input_image = np.expand_dims(numpy_image, axis=0)\n",
        "    #processed_image_resnet50 = resnet50.preprocess_input(input_image.copy())\n",
        "    return numpy_image"
      ],
      "execution_count": 0,
      "outputs": []
    },
    {
      "cell_type": "code",
      "metadata": {
        "id": "5TAyjRoz7QW7",
        "colab_type": "code",
        "colab": {}
      },
      "source": [
        "df['image'] = df['path'].apply(lambda x : get_np_images(x))"
      ],
      "execution_count": 0,
      "outputs": []
    },
    {
      "cell_type": "markdown",
      "metadata": {
        "id": "wVE0uZBf7QXB",
        "colab_type": "raw"
      },
      "source": [
        "df.head()"
      ]
    },
    {
      "cell_type": "code",
      "metadata": {
        "id": "sMc3iOjk8dLJ",
        "colab_type": "code",
        "colab": {
          "base_uri": "https://localhost:8080/",
          "height": 346
        },
        "outputId": "ae3b68a5-6c8a-42c3-d6ab-9a1155ed2c6b"
      },
      "source": [
        "resnet_model = resnet50.ResNet50(weights='imagenet', include_top=False, input_shape= (256,256,3))"
      ],
      "execution_count": 13,
      "outputs": [
        {
          "output_type": "stream",
          "text": [
            "WARNING: Logging before flag parsing goes to stderr.\n",
            "W0818 15:15:33.066041 140162596165504 deprecation_wrapper.py:119] From /usr/local/lib/python3.6/dist-packages/keras/backend/tensorflow_backend.py:74: The name tf.get_default_graph is deprecated. Please use tf.compat.v1.get_default_graph instead.\n",
            "\n",
            "W0818 15:15:33.070899 140162596165504 deprecation_wrapper.py:119] From /usr/local/lib/python3.6/dist-packages/keras/backend/tensorflow_backend.py:517: The name tf.placeholder is deprecated. Please use tf.compat.v1.placeholder instead.\n",
            "\n",
            "W0818 15:15:33.088472 140162596165504 deprecation_wrapper.py:119] From /usr/local/lib/python3.6/dist-packages/keras/backend/tensorflow_backend.py:4185: The name tf.truncated_normal is deprecated. Please use tf.random.truncated_normal instead.\n",
            "\n",
            "W0818 15:15:33.131455 140162596165504 deprecation_wrapper.py:119] From /usr/local/lib/python3.6/dist-packages/keras/backend/tensorflow_backend.py:174: The name tf.get_default_session is deprecated. Please use tf.compat.v1.get_default_session instead.\n",
            "\n",
            "W0818 15:15:33.132346 140162596165504 deprecation_wrapper.py:119] From /usr/local/lib/python3.6/dist-packages/keras/backend/tensorflow_backend.py:181: The name tf.ConfigProto is deprecated. Please use tf.compat.v1.ConfigProto instead.\n",
            "\n",
            "W0818 15:15:36.175343 140162596165504 deprecation_wrapper.py:119] From /usr/local/lib/python3.6/dist-packages/keras/backend/tensorflow_backend.py:1834: The name tf.nn.fused_batch_norm is deprecated. Please use tf.compat.v1.nn.fused_batch_norm instead.\n",
            "\n",
            "W0818 15:15:36.250752 140162596165504 deprecation_wrapper.py:119] From /usr/local/lib/python3.6/dist-packages/keras/backend/tensorflow_backend.py:3976: The name tf.nn.max_pool is deprecated. Please use tf.nn.max_pool2d instead.\n",
            "\n",
            "/usr/local/lib/python3.6/dist-packages/keras_applications/resnet50.py:265: UserWarning: The output shape of `ResNet50(include_top=False)` has been changed since Keras 2.2.0.\n",
            "  warnings.warn('The output shape of `ResNet50(include_top=False)` '\n"
          ],
          "name": "stderr"
        },
        {
          "output_type": "stream",
          "text": [
            "Downloading data from https://github.com/fchollet/deep-learning-models/releases/download/v0.2/resnet50_weights_tf_dim_ordering_tf_kernels_notop.h5\n",
            "94658560/94653016 [==============================] - 1s 0us/step\n"
          ],
          "name": "stdout"
        }
      ]
    },
    {
      "cell_type": "code",
      "metadata": {
        "id": "L7SA3RtZ7QXB",
        "colab_type": "code",
        "colab": {}
      },
      "source": [
        "# freeze all the parameters of the resnet model\n",
        "for layer in resnet_model.layers:\n",
        "    layer.trainable=False"
      ],
      "execution_count": 0,
      "outputs": []
    },
    {
      "cell_type": "code",
      "metadata": {
        "id": "QUg0iOqU7QXF",
        "colab_type": "code",
        "colab": {
          "base_uri": "https://localhost:8080/",
          "height": 86
        },
        "outputId": "ffe300f0-4470-4118-dc85-c3f0a6d9627d"
      },
      "source": [
        "# add our own layers\n",
        "x = resnet_model.output\n",
        "x = GlobalAveragePooling2D()(x)\n",
        "x = Dense(256)(x) \n",
        "x = BatchNormalization()(x)\n",
        "x = Activation('tanh')(x)\n",
        "x = Dropout(0.4)(x)\n",
        "x = Dense(64)(x) \n",
        "x = BatchNormalization()(x)\n",
        "x = Activation('tanh')(x)\n",
        "x = Dropout(0.4)(x)\n",
        "preds = Dense(16, activation='softmax')(x)"
      ],
      "execution_count": 15,
      "outputs": [
        {
          "output_type": "stream",
          "text": [
            "W0818 15:15:46.035172 140162596165504 deprecation.py:506] From /usr/local/lib/python3.6/dist-packages/keras/backend/tensorflow_backend.py:3445: calling dropout (from tensorflow.python.ops.nn_ops) with keep_prob is deprecated and will be removed in a future version.\n",
            "Instructions for updating:\n",
            "Please use `rate` instead of `keep_prob`. Rate should be set to `rate = 1 - keep_prob`.\n"
          ],
          "name": "stderr"
        }
      ]
    },
    {
      "cell_type": "code",
      "metadata": {
        "id": "1Jz83LvG7QXI",
        "colab_type": "code",
        "colab": {
          "base_uri": "https://localhost:8080/",
          "height": 1000
        },
        "outputId": "f066d59a-98de-4891-aa8b-aaa398704a8e"
      },
      "source": [
        "model=Model(inputs=resnet_model.input,outputs=preds)\n",
        "model.summary()"
      ],
      "execution_count": 16,
      "outputs": [
        {
          "output_type": "stream",
          "text": [
            "__________________________________________________________________________________________________\n",
            "Layer (type)                    Output Shape         Param #     Connected to                     \n",
            "==================================================================================================\n",
            "input_1 (InputLayer)            (None, 256, 256, 3)  0                                            \n",
            "__________________________________________________________________________________________________\n",
            "conv1_pad (ZeroPadding2D)       (None, 262, 262, 3)  0           input_1[0][0]                    \n",
            "__________________________________________________________________________________________________\n",
            "conv1 (Conv2D)                  (None, 128, 128, 64) 9472        conv1_pad[0][0]                  \n",
            "__________________________________________________________________________________________________\n",
            "bn_conv1 (BatchNormalization)   (None, 128, 128, 64) 256         conv1[0][0]                      \n",
            "__________________________________________________________________________________________________\n",
            "activation_1 (Activation)       (None, 128, 128, 64) 0           bn_conv1[0][0]                   \n",
            "__________________________________________________________________________________________________\n",
            "pool1_pad (ZeroPadding2D)       (None, 130, 130, 64) 0           activation_1[0][0]               \n",
            "__________________________________________________________________________________________________\n",
            "max_pooling2d_1 (MaxPooling2D)  (None, 64, 64, 64)   0           pool1_pad[0][0]                  \n",
            "__________________________________________________________________________________________________\n",
            "res2a_branch2a (Conv2D)         (None, 64, 64, 64)   4160        max_pooling2d_1[0][0]            \n",
            "__________________________________________________________________________________________________\n",
            "bn2a_branch2a (BatchNormalizati (None, 64, 64, 64)   256         res2a_branch2a[0][0]             \n",
            "__________________________________________________________________________________________________\n",
            "activation_2 (Activation)       (None, 64, 64, 64)   0           bn2a_branch2a[0][0]              \n",
            "__________________________________________________________________________________________________\n",
            "res2a_branch2b (Conv2D)         (None, 64, 64, 64)   36928       activation_2[0][0]               \n",
            "__________________________________________________________________________________________________\n",
            "bn2a_branch2b (BatchNormalizati (None, 64, 64, 64)   256         res2a_branch2b[0][0]             \n",
            "__________________________________________________________________________________________________\n",
            "activation_3 (Activation)       (None, 64, 64, 64)   0           bn2a_branch2b[0][0]              \n",
            "__________________________________________________________________________________________________\n",
            "res2a_branch2c (Conv2D)         (None, 64, 64, 256)  16640       activation_3[0][0]               \n",
            "__________________________________________________________________________________________________\n",
            "res2a_branch1 (Conv2D)          (None, 64, 64, 256)  16640       max_pooling2d_1[0][0]            \n",
            "__________________________________________________________________________________________________\n",
            "bn2a_branch2c (BatchNormalizati (None, 64, 64, 256)  1024        res2a_branch2c[0][0]             \n",
            "__________________________________________________________________________________________________\n",
            "bn2a_branch1 (BatchNormalizatio (None, 64, 64, 256)  1024        res2a_branch1[0][0]              \n",
            "__________________________________________________________________________________________________\n",
            "add_1 (Add)                     (None, 64, 64, 256)  0           bn2a_branch2c[0][0]              \n",
            "                                                                 bn2a_branch1[0][0]               \n",
            "__________________________________________________________________________________________________\n",
            "activation_4 (Activation)       (None, 64, 64, 256)  0           add_1[0][0]                      \n",
            "__________________________________________________________________________________________________\n",
            "res2b_branch2a (Conv2D)         (None, 64, 64, 64)   16448       activation_4[0][0]               \n",
            "__________________________________________________________________________________________________\n",
            "bn2b_branch2a (BatchNormalizati (None, 64, 64, 64)   256         res2b_branch2a[0][0]             \n",
            "__________________________________________________________________________________________________\n",
            "activation_5 (Activation)       (None, 64, 64, 64)   0           bn2b_branch2a[0][0]              \n",
            "__________________________________________________________________________________________________\n",
            "res2b_branch2b (Conv2D)         (None, 64, 64, 64)   36928       activation_5[0][0]               \n",
            "__________________________________________________________________________________________________\n",
            "bn2b_branch2b (BatchNormalizati (None, 64, 64, 64)   256         res2b_branch2b[0][0]             \n",
            "__________________________________________________________________________________________________\n",
            "activation_6 (Activation)       (None, 64, 64, 64)   0           bn2b_branch2b[0][0]              \n",
            "__________________________________________________________________________________________________\n",
            "res2b_branch2c (Conv2D)         (None, 64, 64, 256)  16640       activation_6[0][0]               \n",
            "__________________________________________________________________________________________________\n",
            "bn2b_branch2c (BatchNormalizati (None, 64, 64, 256)  1024        res2b_branch2c[0][0]             \n",
            "__________________________________________________________________________________________________\n",
            "add_2 (Add)                     (None, 64, 64, 256)  0           bn2b_branch2c[0][0]              \n",
            "                                                                 activation_4[0][0]               \n",
            "__________________________________________________________________________________________________\n",
            "activation_7 (Activation)       (None, 64, 64, 256)  0           add_2[0][0]                      \n",
            "__________________________________________________________________________________________________\n",
            "res2c_branch2a (Conv2D)         (None, 64, 64, 64)   16448       activation_7[0][0]               \n",
            "__________________________________________________________________________________________________\n",
            "bn2c_branch2a (BatchNormalizati (None, 64, 64, 64)   256         res2c_branch2a[0][0]             \n",
            "__________________________________________________________________________________________________\n",
            "activation_8 (Activation)       (None, 64, 64, 64)   0           bn2c_branch2a[0][0]              \n",
            "__________________________________________________________________________________________________\n",
            "res2c_branch2b (Conv2D)         (None, 64, 64, 64)   36928       activation_8[0][0]               \n",
            "__________________________________________________________________________________________________\n",
            "bn2c_branch2b (BatchNormalizati (None, 64, 64, 64)   256         res2c_branch2b[0][0]             \n",
            "__________________________________________________________________________________________________\n",
            "activation_9 (Activation)       (None, 64, 64, 64)   0           bn2c_branch2b[0][0]              \n",
            "__________________________________________________________________________________________________\n",
            "res2c_branch2c (Conv2D)         (None, 64, 64, 256)  16640       activation_9[0][0]               \n",
            "__________________________________________________________________________________________________\n",
            "bn2c_branch2c (BatchNormalizati (None, 64, 64, 256)  1024        res2c_branch2c[0][0]             \n",
            "__________________________________________________________________________________________________\n",
            "add_3 (Add)                     (None, 64, 64, 256)  0           bn2c_branch2c[0][0]              \n",
            "                                                                 activation_7[0][0]               \n",
            "__________________________________________________________________________________________________\n",
            "activation_10 (Activation)      (None, 64, 64, 256)  0           add_3[0][0]                      \n",
            "__________________________________________________________________________________________________\n",
            "res3a_branch2a (Conv2D)         (None, 32, 32, 128)  32896       activation_10[0][0]              \n",
            "__________________________________________________________________________________________________\n",
            "bn3a_branch2a (BatchNormalizati (None, 32, 32, 128)  512         res3a_branch2a[0][0]             \n",
            "__________________________________________________________________________________________________\n",
            "activation_11 (Activation)      (None, 32, 32, 128)  0           bn3a_branch2a[0][0]              \n",
            "__________________________________________________________________________________________________\n",
            "res3a_branch2b (Conv2D)         (None, 32, 32, 128)  147584      activation_11[0][0]              \n",
            "__________________________________________________________________________________________________\n",
            "bn3a_branch2b (BatchNormalizati (None, 32, 32, 128)  512         res3a_branch2b[0][0]             \n",
            "__________________________________________________________________________________________________\n",
            "activation_12 (Activation)      (None, 32, 32, 128)  0           bn3a_branch2b[0][0]              \n",
            "__________________________________________________________________________________________________\n",
            "res3a_branch2c (Conv2D)         (None, 32, 32, 512)  66048       activation_12[0][0]              \n",
            "__________________________________________________________________________________________________\n",
            "res3a_branch1 (Conv2D)          (None, 32, 32, 512)  131584      activation_10[0][0]              \n",
            "__________________________________________________________________________________________________\n",
            "bn3a_branch2c (BatchNormalizati (None, 32, 32, 512)  2048        res3a_branch2c[0][0]             \n",
            "__________________________________________________________________________________________________\n",
            "bn3a_branch1 (BatchNormalizatio (None, 32, 32, 512)  2048        res3a_branch1[0][0]              \n",
            "__________________________________________________________________________________________________\n",
            "add_4 (Add)                     (None, 32, 32, 512)  0           bn3a_branch2c[0][0]              \n",
            "                                                                 bn3a_branch1[0][0]               \n",
            "__________________________________________________________________________________________________\n",
            "activation_13 (Activation)      (None, 32, 32, 512)  0           add_4[0][0]                      \n",
            "__________________________________________________________________________________________________\n",
            "res3b_branch2a (Conv2D)         (None, 32, 32, 128)  65664       activation_13[0][0]              \n",
            "__________________________________________________________________________________________________\n",
            "bn3b_branch2a (BatchNormalizati (None, 32, 32, 128)  512         res3b_branch2a[0][0]             \n",
            "__________________________________________________________________________________________________\n",
            "activation_14 (Activation)      (None, 32, 32, 128)  0           bn3b_branch2a[0][0]              \n",
            "__________________________________________________________________________________________________\n",
            "res3b_branch2b (Conv2D)         (None, 32, 32, 128)  147584      activation_14[0][0]              \n",
            "__________________________________________________________________________________________________\n",
            "bn3b_branch2b (BatchNormalizati (None, 32, 32, 128)  512         res3b_branch2b[0][0]             \n",
            "__________________________________________________________________________________________________\n",
            "activation_15 (Activation)      (None, 32, 32, 128)  0           bn3b_branch2b[0][0]              \n",
            "__________________________________________________________________________________________________\n",
            "res3b_branch2c (Conv2D)         (None, 32, 32, 512)  66048       activation_15[0][0]              \n",
            "__________________________________________________________________________________________________\n",
            "bn3b_branch2c (BatchNormalizati (None, 32, 32, 512)  2048        res3b_branch2c[0][0]             \n",
            "__________________________________________________________________________________________________\n",
            "add_5 (Add)                     (None, 32, 32, 512)  0           bn3b_branch2c[0][0]              \n",
            "                                                                 activation_13[0][0]              \n",
            "__________________________________________________________________________________________________\n",
            "activation_16 (Activation)      (None, 32, 32, 512)  0           add_5[0][0]                      \n",
            "__________________________________________________________________________________________________\n",
            "res3c_branch2a (Conv2D)         (None, 32, 32, 128)  65664       activation_16[0][0]              \n",
            "__________________________________________________________________________________________________\n",
            "bn3c_branch2a (BatchNormalizati (None, 32, 32, 128)  512         res3c_branch2a[0][0]             \n",
            "__________________________________________________________________________________________________\n",
            "activation_17 (Activation)      (None, 32, 32, 128)  0           bn3c_branch2a[0][0]              \n",
            "__________________________________________________________________________________________________\n",
            "res3c_branch2b (Conv2D)         (None, 32, 32, 128)  147584      activation_17[0][0]              \n",
            "__________________________________________________________________________________________________\n",
            "bn3c_branch2b (BatchNormalizati (None, 32, 32, 128)  512         res3c_branch2b[0][0]             \n",
            "__________________________________________________________________________________________________\n",
            "activation_18 (Activation)      (None, 32, 32, 128)  0           bn3c_branch2b[0][0]              \n",
            "__________________________________________________________________________________________________\n",
            "res3c_branch2c (Conv2D)         (None, 32, 32, 512)  66048       activation_18[0][0]              \n",
            "__________________________________________________________________________________________________\n",
            "bn3c_branch2c (BatchNormalizati (None, 32, 32, 512)  2048        res3c_branch2c[0][0]             \n",
            "__________________________________________________________________________________________________\n",
            "add_6 (Add)                     (None, 32, 32, 512)  0           bn3c_branch2c[0][0]              \n",
            "                                                                 activation_16[0][0]              \n",
            "__________________________________________________________________________________________________\n",
            "activation_19 (Activation)      (None, 32, 32, 512)  0           add_6[0][0]                      \n",
            "__________________________________________________________________________________________________\n",
            "res3d_branch2a (Conv2D)         (None, 32, 32, 128)  65664       activation_19[0][0]              \n",
            "__________________________________________________________________________________________________\n",
            "bn3d_branch2a (BatchNormalizati (None, 32, 32, 128)  512         res3d_branch2a[0][0]             \n",
            "__________________________________________________________________________________________________\n",
            "activation_20 (Activation)      (None, 32, 32, 128)  0           bn3d_branch2a[0][0]              \n",
            "__________________________________________________________________________________________________\n",
            "res3d_branch2b (Conv2D)         (None, 32, 32, 128)  147584      activation_20[0][0]              \n",
            "__________________________________________________________________________________________________\n",
            "bn3d_branch2b (BatchNormalizati (None, 32, 32, 128)  512         res3d_branch2b[0][0]             \n",
            "__________________________________________________________________________________________________\n",
            "activation_21 (Activation)      (None, 32, 32, 128)  0           bn3d_branch2b[0][0]              \n",
            "__________________________________________________________________________________________________\n",
            "res3d_branch2c (Conv2D)         (None, 32, 32, 512)  66048       activation_21[0][0]              \n",
            "__________________________________________________________________________________________________\n",
            "bn3d_branch2c (BatchNormalizati (None, 32, 32, 512)  2048        res3d_branch2c[0][0]             \n",
            "__________________________________________________________________________________________________\n",
            "add_7 (Add)                     (None, 32, 32, 512)  0           bn3d_branch2c[0][0]              \n",
            "                                                                 activation_19[0][0]              \n",
            "__________________________________________________________________________________________________\n",
            "activation_22 (Activation)      (None, 32, 32, 512)  0           add_7[0][0]                      \n",
            "__________________________________________________________________________________________________\n",
            "res4a_branch2a (Conv2D)         (None, 16, 16, 256)  131328      activation_22[0][0]              \n",
            "__________________________________________________________________________________________________\n",
            "bn4a_branch2a (BatchNormalizati (None, 16, 16, 256)  1024        res4a_branch2a[0][0]             \n",
            "__________________________________________________________________________________________________\n",
            "activation_23 (Activation)      (None, 16, 16, 256)  0           bn4a_branch2a[0][0]              \n",
            "__________________________________________________________________________________________________\n",
            "res4a_branch2b (Conv2D)         (None, 16, 16, 256)  590080      activation_23[0][0]              \n",
            "__________________________________________________________________________________________________\n",
            "bn4a_branch2b (BatchNormalizati (None, 16, 16, 256)  1024        res4a_branch2b[0][0]             \n",
            "__________________________________________________________________________________________________\n",
            "activation_24 (Activation)      (None, 16, 16, 256)  0           bn4a_branch2b[0][0]              \n",
            "__________________________________________________________________________________________________\n",
            "res4a_branch2c (Conv2D)         (None, 16, 16, 1024) 263168      activation_24[0][0]              \n",
            "__________________________________________________________________________________________________\n",
            "res4a_branch1 (Conv2D)          (None, 16, 16, 1024) 525312      activation_22[0][0]              \n",
            "__________________________________________________________________________________________________\n",
            "bn4a_branch2c (BatchNormalizati (None, 16, 16, 1024) 4096        res4a_branch2c[0][0]             \n",
            "__________________________________________________________________________________________________\n",
            "bn4a_branch1 (BatchNormalizatio (None, 16, 16, 1024) 4096        res4a_branch1[0][0]              \n",
            "__________________________________________________________________________________________________\n",
            "add_8 (Add)                     (None, 16, 16, 1024) 0           bn4a_branch2c[0][0]              \n",
            "                                                                 bn4a_branch1[0][0]               \n",
            "__________________________________________________________________________________________________\n",
            "activation_25 (Activation)      (None, 16, 16, 1024) 0           add_8[0][0]                      \n",
            "__________________________________________________________________________________________________\n",
            "res4b_branch2a (Conv2D)         (None, 16, 16, 256)  262400      activation_25[0][0]              \n",
            "__________________________________________________________________________________________________\n",
            "bn4b_branch2a (BatchNormalizati (None, 16, 16, 256)  1024        res4b_branch2a[0][0]             \n",
            "__________________________________________________________________________________________________\n",
            "activation_26 (Activation)      (None, 16, 16, 256)  0           bn4b_branch2a[0][0]              \n",
            "__________________________________________________________________________________________________\n",
            "res4b_branch2b (Conv2D)         (None, 16, 16, 256)  590080      activation_26[0][0]              \n",
            "__________________________________________________________________________________________________\n",
            "bn4b_branch2b (BatchNormalizati (None, 16, 16, 256)  1024        res4b_branch2b[0][0]             \n",
            "__________________________________________________________________________________________________\n",
            "activation_27 (Activation)      (None, 16, 16, 256)  0           bn4b_branch2b[0][0]              \n",
            "__________________________________________________________________________________________________\n",
            "res4b_branch2c (Conv2D)         (None, 16, 16, 1024) 263168      activation_27[0][0]              \n",
            "__________________________________________________________________________________________________\n",
            "bn4b_branch2c (BatchNormalizati (None, 16, 16, 1024) 4096        res4b_branch2c[0][0]             \n",
            "__________________________________________________________________________________________________\n",
            "add_9 (Add)                     (None, 16, 16, 1024) 0           bn4b_branch2c[0][0]              \n",
            "                                                                 activation_25[0][0]              \n",
            "__________________________________________________________________________________________________\n",
            "activation_28 (Activation)      (None, 16, 16, 1024) 0           add_9[0][0]                      \n",
            "__________________________________________________________________________________________________\n",
            "res4c_branch2a (Conv2D)         (None, 16, 16, 256)  262400      activation_28[0][0]              \n",
            "__________________________________________________________________________________________________\n",
            "bn4c_branch2a (BatchNormalizati (None, 16, 16, 256)  1024        res4c_branch2a[0][0]             \n",
            "__________________________________________________________________________________________________\n",
            "activation_29 (Activation)      (None, 16, 16, 256)  0           bn4c_branch2a[0][0]              \n",
            "__________________________________________________________________________________________________\n",
            "res4c_branch2b (Conv2D)         (None, 16, 16, 256)  590080      activation_29[0][0]              \n",
            "__________________________________________________________________________________________________\n",
            "bn4c_branch2b (BatchNormalizati (None, 16, 16, 256)  1024        res4c_branch2b[0][0]             \n",
            "__________________________________________________________________________________________________\n",
            "activation_30 (Activation)      (None, 16, 16, 256)  0           bn4c_branch2b[0][0]              \n",
            "__________________________________________________________________________________________________\n",
            "res4c_branch2c (Conv2D)         (None, 16, 16, 1024) 263168      activation_30[0][0]              \n",
            "__________________________________________________________________________________________________\n",
            "bn4c_branch2c (BatchNormalizati (None, 16, 16, 1024) 4096        res4c_branch2c[0][0]             \n",
            "__________________________________________________________________________________________________\n",
            "add_10 (Add)                    (None, 16, 16, 1024) 0           bn4c_branch2c[0][0]              \n",
            "                                                                 activation_28[0][0]              \n",
            "__________________________________________________________________________________________________\n",
            "activation_31 (Activation)      (None, 16, 16, 1024) 0           add_10[0][0]                     \n",
            "__________________________________________________________________________________________________\n",
            "res4d_branch2a (Conv2D)         (None, 16, 16, 256)  262400      activation_31[0][0]              \n",
            "__________________________________________________________________________________________________\n",
            "bn4d_branch2a (BatchNormalizati (None, 16, 16, 256)  1024        res4d_branch2a[0][0]             \n",
            "__________________________________________________________________________________________________\n",
            "activation_32 (Activation)      (None, 16, 16, 256)  0           bn4d_branch2a[0][0]              \n",
            "__________________________________________________________________________________________________\n",
            "res4d_branch2b (Conv2D)         (None, 16, 16, 256)  590080      activation_32[0][0]              \n",
            "__________________________________________________________________________________________________\n",
            "bn4d_branch2b (BatchNormalizati (None, 16, 16, 256)  1024        res4d_branch2b[0][0]             \n",
            "__________________________________________________________________________________________________\n",
            "activation_33 (Activation)      (None, 16, 16, 256)  0           bn4d_branch2b[0][0]              \n",
            "__________________________________________________________________________________________________\n",
            "res4d_branch2c (Conv2D)         (None, 16, 16, 1024) 263168      activation_33[0][0]              \n",
            "__________________________________________________________________________________________________\n",
            "bn4d_branch2c (BatchNormalizati (None, 16, 16, 1024) 4096        res4d_branch2c[0][0]             \n",
            "__________________________________________________________________________________________________\n",
            "add_11 (Add)                    (None, 16, 16, 1024) 0           bn4d_branch2c[0][0]              \n",
            "                                                                 activation_31[0][0]              \n",
            "__________________________________________________________________________________________________\n",
            "activation_34 (Activation)      (None, 16, 16, 1024) 0           add_11[0][0]                     \n",
            "__________________________________________________________________________________________________\n",
            "res4e_branch2a (Conv2D)         (None, 16, 16, 256)  262400      activation_34[0][0]              \n",
            "__________________________________________________________________________________________________\n",
            "bn4e_branch2a (BatchNormalizati (None, 16, 16, 256)  1024        res4e_branch2a[0][0]             \n",
            "__________________________________________________________________________________________________\n",
            "activation_35 (Activation)      (None, 16, 16, 256)  0           bn4e_branch2a[0][0]              \n",
            "__________________________________________________________________________________________________\n",
            "res4e_branch2b (Conv2D)         (None, 16, 16, 256)  590080      activation_35[0][0]              \n",
            "__________________________________________________________________________________________________\n",
            "bn4e_branch2b (BatchNormalizati (None, 16, 16, 256)  1024        res4e_branch2b[0][0]             \n",
            "__________________________________________________________________________________________________\n",
            "activation_36 (Activation)      (None, 16, 16, 256)  0           bn4e_branch2b[0][0]              \n",
            "__________________________________________________________________________________________________\n",
            "res4e_branch2c (Conv2D)         (None, 16, 16, 1024) 263168      activation_36[0][0]              \n",
            "__________________________________________________________________________________________________\n",
            "bn4e_branch2c (BatchNormalizati (None, 16, 16, 1024) 4096        res4e_branch2c[0][0]             \n",
            "__________________________________________________________________________________________________\n",
            "add_12 (Add)                    (None, 16, 16, 1024) 0           bn4e_branch2c[0][0]              \n",
            "                                                                 activation_34[0][0]              \n",
            "__________________________________________________________________________________________________\n",
            "activation_37 (Activation)      (None, 16, 16, 1024) 0           add_12[0][0]                     \n",
            "__________________________________________________________________________________________________\n",
            "res4f_branch2a (Conv2D)         (None, 16, 16, 256)  262400      activation_37[0][0]              \n",
            "__________________________________________________________________________________________________\n",
            "bn4f_branch2a (BatchNormalizati (None, 16, 16, 256)  1024        res4f_branch2a[0][0]             \n",
            "__________________________________________________________________________________________________\n",
            "activation_38 (Activation)      (None, 16, 16, 256)  0           bn4f_branch2a[0][0]              \n",
            "__________________________________________________________________________________________________\n",
            "res4f_branch2b (Conv2D)         (None, 16, 16, 256)  590080      activation_38[0][0]              \n",
            "__________________________________________________________________________________________________\n",
            "bn4f_branch2b (BatchNormalizati (None, 16, 16, 256)  1024        res4f_branch2b[0][0]             \n",
            "__________________________________________________________________________________________________\n",
            "activation_39 (Activation)      (None, 16, 16, 256)  0           bn4f_branch2b[0][0]              \n",
            "__________________________________________________________________________________________________\n",
            "res4f_branch2c (Conv2D)         (None, 16, 16, 1024) 263168      activation_39[0][0]              \n",
            "__________________________________________________________________________________________________\n",
            "bn4f_branch2c (BatchNormalizati (None, 16, 16, 1024) 4096        res4f_branch2c[0][0]             \n",
            "__________________________________________________________________________________________________\n",
            "add_13 (Add)                    (None, 16, 16, 1024) 0           bn4f_branch2c[0][0]              \n",
            "                                                                 activation_37[0][0]              \n",
            "__________________________________________________________________________________________________\n",
            "activation_40 (Activation)      (None, 16, 16, 1024) 0           add_13[0][0]                     \n",
            "__________________________________________________________________________________________________\n",
            "res5a_branch2a (Conv2D)         (None, 8, 8, 512)    524800      activation_40[0][0]              \n",
            "__________________________________________________________________________________________________\n",
            "bn5a_branch2a (BatchNormalizati (None, 8, 8, 512)    2048        res5a_branch2a[0][0]             \n",
            "__________________________________________________________________________________________________\n",
            "activation_41 (Activation)      (None, 8, 8, 512)    0           bn5a_branch2a[0][0]              \n",
            "__________________________________________________________________________________________________\n",
            "res5a_branch2b (Conv2D)         (None, 8, 8, 512)    2359808     activation_41[0][0]              \n",
            "__________________________________________________________________________________________________\n",
            "bn5a_branch2b (BatchNormalizati (None, 8, 8, 512)    2048        res5a_branch2b[0][0]             \n",
            "__________________________________________________________________________________________________\n",
            "activation_42 (Activation)      (None, 8, 8, 512)    0           bn5a_branch2b[0][0]              \n",
            "__________________________________________________________________________________________________\n",
            "res5a_branch2c (Conv2D)         (None, 8, 8, 2048)   1050624     activation_42[0][0]              \n",
            "__________________________________________________________________________________________________\n",
            "res5a_branch1 (Conv2D)          (None, 8, 8, 2048)   2099200     activation_40[0][0]              \n",
            "__________________________________________________________________________________________________\n",
            "bn5a_branch2c (BatchNormalizati (None, 8, 8, 2048)   8192        res5a_branch2c[0][0]             \n",
            "__________________________________________________________________________________________________\n",
            "bn5a_branch1 (BatchNormalizatio (None, 8, 8, 2048)   8192        res5a_branch1[0][0]              \n",
            "__________________________________________________________________________________________________\n",
            "add_14 (Add)                    (None, 8, 8, 2048)   0           bn5a_branch2c[0][0]              \n",
            "                                                                 bn5a_branch1[0][0]               \n",
            "__________________________________________________________________________________________________\n",
            "activation_43 (Activation)      (None, 8, 8, 2048)   0           add_14[0][0]                     \n",
            "__________________________________________________________________________________________________\n",
            "res5b_branch2a (Conv2D)         (None, 8, 8, 512)    1049088     activation_43[0][0]              \n",
            "__________________________________________________________________________________________________\n",
            "bn5b_branch2a (BatchNormalizati (None, 8, 8, 512)    2048        res5b_branch2a[0][0]             \n",
            "__________________________________________________________________________________________________\n",
            "activation_44 (Activation)      (None, 8, 8, 512)    0           bn5b_branch2a[0][0]              \n",
            "__________________________________________________________________________________________________\n",
            "res5b_branch2b (Conv2D)         (None, 8, 8, 512)    2359808     activation_44[0][0]              \n",
            "__________________________________________________________________________________________________\n",
            "bn5b_branch2b (BatchNormalizati (None, 8, 8, 512)    2048        res5b_branch2b[0][0]             \n",
            "__________________________________________________________________________________________________\n",
            "activation_45 (Activation)      (None, 8, 8, 512)    0           bn5b_branch2b[0][0]              \n",
            "__________________________________________________________________________________________________\n",
            "res5b_branch2c (Conv2D)         (None, 8, 8, 2048)   1050624     activation_45[0][0]              \n",
            "__________________________________________________________________________________________________\n",
            "bn5b_branch2c (BatchNormalizati (None, 8, 8, 2048)   8192        res5b_branch2c[0][0]             \n",
            "__________________________________________________________________________________________________\n",
            "add_15 (Add)                    (None, 8, 8, 2048)   0           bn5b_branch2c[0][0]              \n",
            "                                                                 activation_43[0][0]              \n",
            "__________________________________________________________________________________________________\n",
            "activation_46 (Activation)      (None, 8, 8, 2048)   0           add_15[0][0]                     \n",
            "__________________________________________________________________________________________________\n",
            "res5c_branch2a (Conv2D)         (None, 8, 8, 512)    1049088     activation_46[0][0]              \n",
            "__________________________________________________________________________________________________\n",
            "bn5c_branch2a (BatchNormalizati (None, 8, 8, 512)    2048        res5c_branch2a[0][0]             \n",
            "__________________________________________________________________________________________________\n",
            "activation_47 (Activation)      (None, 8, 8, 512)    0           bn5c_branch2a[0][0]              \n",
            "__________________________________________________________________________________________________\n",
            "res5c_branch2b (Conv2D)         (None, 8, 8, 512)    2359808     activation_47[0][0]              \n",
            "__________________________________________________________________________________________________\n",
            "bn5c_branch2b (BatchNormalizati (None, 8, 8, 512)    2048        res5c_branch2b[0][0]             \n",
            "__________________________________________________________________________________________________\n",
            "activation_48 (Activation)      (None, 8, 8, 512)    0           bn5c_branch2b[0][0]              \n",
            "__________________________________________________________________________________________________\n",
            "res5c_branch2c (Conv2D)         (None, 8, 8, 2048)   1050624     activation_48[0][0]              \n",
            "__________________________________________________________________________________________________\n",
            "bn5c_branch2c (BatchNormalizati (None, 8, 8, 2048)   8192        res5c_branch2c[0][0]             \n",
            "__________________________________________________________________________________________________\n",
            "add_16 (Add)                    (None, 8, 8, 2048)   0           bn5c_branch2c[0][0]              \n",
            "                                                                 activation_46[0][0]              \n",
            "__________________________________________________________________________________________________\n",
            "activation_49 (Activation)      (None, 8, 8, 2048)   0           add_16[0][0]                     \n",
            "__________________________________________________________________________________________________\n",
            "global_average_pooling2d_1 (Glo (None, 2048)         0           activation_49[0][0]              \n",
            "__________________________________________________________________________________________________\n",
            "dense_1 (Dense)                 (None, 256)          524544      global_average_pooling2d_1[0][0] \n",
            "__________________________________________________________________________________________________\n",
            "batch_normalization_1 (BatchNor (None, 256)          1024        dense_1[0][0]                    \n",
            "__________________________________________________________________________________________________\n",
            "activation_50 (Activation)      (None, 256)          0           batch_normalization_1[0][0]      \n",
            "__________________________________________________________________________________________________\n",
            "dropout_1 (Dropout)             (None, 256)          0           activation_50[0][0]              \n",
            "__________________________________________________________________________________________________\n",
            "dense_2 (Dense)                 (None, 64)           16448       dropout_1[0][0]                  \n",
            "__________________________________________________________________________________________________\n",
            "batch_normalization_2 (BatchNor (None, 64)           256         dense_2[0][0]                    \n",
            "__________________________________________________________________________________________________\n",
            "activation_51 (Activation)      (None, 64)           0           batch_normalization_2[0][0]      \n",
            "__________________________________________________________________________________________________\n",
            "dropout_2 (Dropout)             (None, 64)           0           activation_51[0][0]              \n",
            "__________________________________________________________________________________________________\n",
            "dense_3 (Dense)                 (None, 16)           1040        dropout_2[0][0]                  \n",
            "==================================================================================================\n",
            "Total params: 24,131,024\n",
            "Trainable params: 542,672\n",
            "Non-trainable params: 23,588,352\n",
            "__________________________________________________________________________________________________\n"
          ],
          "name": "stdout"
        }
      ]
    },
    {
      "cell_type": "code",
      "metadata": {
        "id": "01ZmE1mWBazh",
        "colab_type": "code",
        "colab": {
          "base_uri": "https://localhost:8080/",
          "height": 1000
        },
        "outputId": "1def4770-a06e-4398-916a-187e8af1fc4b"
      },
      "source": [
        "[(layer, layer.trainable) for layer in model.layers]"
      ],
      "execution_count": 17,
      "outputs": [
        {
          "output_type": "execute_result",
          "data": {
            "text/plain": [
              "[(<keras.engine.input_layer.InputLayer at 0x7f79d1fcd4e0>, False),\n",
              " (<keras.layers.convolutional.ZeroPadding2D at 0x7f79d1f0c5f8>, False),\n",
              " (<keras.layers.convolutional.Conv2D at 0x7f79d1f0c3c8>, False),\n",
              " (<keras.layers.normalization.BatchNormalization at 0x7f79d1f0c8d0>, False),\n",
              " (<keras.layers.core.Activation at 0x7f79d1f0cb00>, False),\n",
              " (<keras.layers.convolutional.ZeroPadding2D at 0x7f79c4017c18>, False),\n",
              " (<keras.layers.pooling.MaxPooling2D at 0x7f79d1e94ef0>, False),\n",
              " (<keras.layers.convolutional.Conv2D at 0x7f79d1eca780>, False),\n",
              " (<keras.layers.normalization.BatchNormalization at 0x7f79c0fe9c88>, False),\n",
              " (<keras.layers.core.Activation at 0x7f79c0fe9e48>, False),\n",
              " (<keras.layers.convolutional.Conv2D at 0x7f79c0f596a0>, False),\n",
              " (<keras.layers.normalization.BatchNormalization at 0x7f79c0fbce10>, False),\n",
              " (<keras.layers.core.Activation at 0x7f79c0f7b7b8>, False),\n",
              " (<keras.layers.convolutional.Conv2D at 0x7f79c0e45eb8>, False),\n",
              " (<keras.layers.convolutional.Conv2D at 0x7f79c0e64b38>, False),\n",
              " (<keras.layers.normalization.BatchNormalization at 0x7f79c0ea5048>, False),\n",
              " (<keras.layers.normalization.BatchNormalization at 0x7f79c0d91a20>, False),\n",
              " (<keras.layers.merge.Add at 0x7f79c0d49da0>, False),\n",
              " (<keras.layers.core.Activation at 0x7f79c0cde7f0>, False),\n",
              " (<keras.layers.convolutional.Conv2D at 0x7f79c0cdef60>, False),\n",
              " (<keras.layers.normalization.BatchNormalization at 0x7f79c0c4e630>, False),\n",
              " (<keras.layers.core.Activation at 0x7f79c0c1f3c8>, False),\n",
              " (<keras.layers.convolutional.Conv2D at 0x7f79c0b95d30>, False),\n",
              " (<keras.layers.normalization.BatchNormalization at 0x7f79c0bf8898>, False),\n",
              " (<keras.layers.core.Activation at 0x7f79c0bb7be0>, False),\n",
              " (<keras.layers.convolutional.Conv2D at 0x7f79c0aa03c8>, False),\n",
              " (<keras.layers.normalization.BatchNormalization at 0x7f79c0ae5ba8>, False),\n",
              " (<keras.layers.merge.Add at 0x7f79c0a3f358>, False),\n",
              " (<keras.layers.core.Activation at 0x7f79c0988cf8>, False),\n",
              " (<keras.layers.convolutional.Conv2D at 0x7f79c09e4550>, False),\n",
              " (<keras.layers.normalization.BatchNormalization at 0x7f79c09a2898>, False),\n",
              " (<keras.layers.core.Activation at 0x7f79c0975860>, False),\n",
              " (<keras.layers.convolutional.Conv2D at 0x7f79c0921e80>, False),\n",
              " (<keras.layers.normalization.BatchNormalization at 0x7f79c088c208>, False),\n",
              " (<keras.layers.core.Activation at 0x7f79c08ac780>, False),\n",
              " (<keras.layers.convolutional.Conv2D at 0x7f79c07f36d8>, False),\n",
              " (<keras.layers.normalization.BatchNormalization at 0x7f79d34e5438>, False),\n",
              " (<keras.layers.merge.Add at 0x7f79c07917b8>, False),\n",
              " (<keras.layers.core.Activation at 0x7f79c0706940>, False),\n",
              " (<keras.layers.convolutional.Conv2D at 0x7f79c0706b38>, False),\n",
              " (<keras.layers.normalization.BatchNormalization at 0x7f79c06f81d0>, False),\n",
              " (<keras.layers.core.Activation at 0x7f79c0648b70>, False),\n",
              " (<keras.layers.convolutional.Conv2D at 0x7f79c05da518>, False),\n",
              " (<keras.layers.normalization.BatchNormalization at 0x7f79c05bffd0>, False),\n",
              " (<keras.layers.core.Activation at 0x7f79c05fa630>, False),\n",
              " (<keras.layers.convolutional.Conv2D at 0x7f79c050cd30>, False),\n",
              " (<keras.layers.convolutional.Conv2D at 0x7f79c04e2ac8>, False),\n",
              " (<keras.layers.normalization.BatchNormalization at 0x7f79c0524f98>, False),\n",
              " (<keras.layers.normalization.BatchNormalization at 0x7f79c0414c88>, False),\n",
              " (<keras.layers.merge.Add at 0x7f79c03cd940>, False),\n",
              " (<keras.layers.core.Activation at 0x7f79c0345b00>, False),\n",
              " (<keras.layers.convolutional.Conv2D at 0x7f79c0362748>, False),\n",
              " (<keras.layers.normalization.BatchNormalization at 0x7f79c02d15c0>, False),\n",
              " (<keras.layers.core.Activation at 0x7f79c02a0390>, False),\n",
              " (<keras.layers.convolutional.Conv2D at 0x7f79c0216d30>, False),\n",
              " (<keras.layers.normalization.BatchNormalization at 0x7f79c027a7f0>, False),\n",
              " (<keras.layers.core.Activation at 0x7f79c0238b38>, False),\n",
              " (<keras.layers.convolutional.Conv2D at 0x7f79c0122390>, False),\n",
              " (<keras.layers.normalization.BatchNormalization at 0x7f79c0167c18>, False),\n",
              " (<keras.layers.merge.Add at 0x7f79c00be320>, False),\n",
              " (<keras.layers.core.Activation at 0x7f7977b76e80>, False),\n",
              " (<keras.layers.convolutional.Conv2D at 0x7f79c0068518>, False),\n",
              " (<keras.layers.normalization.BatchNormalization at 0x7f7977b94860>, False),\n",
              " (<keras.layers.core.Activation at 0x7f7977b64828>, False),\n",
              " (<keras.layers.convolutional.Conv2D at 0x7f7977b0ee80>, False),\n",
              " (<keras.layers.normalization.BatchNormalization at 0x7f7977a781d0>, False),\n",
              " (<keras.layers.core.Activation at 0x7f7977a9b2e8>, False),\n",
              " (<keras.layers.convolutional.Conv2D at 0x7f79779e17b8>, False),\n",
              " (<keras.layers.normalization.BatchNormalization at 0x7f79779c4ef0>, False),\n",
              " (<keras.layers.merge.Add at 0x7f7977983748>, False),\n",
              " (<keras.layers.core.Activation at 0x7f79778faac8>, False),\n",
              " (<keras.layers.convolutional.Conv2D at 0x7f79778fab70>, False),\n",
              " (<keras.layers.normalization.BatchNormalization at 0x7f797786a2e8>, False),\n",
              " (<keras.layers.core.Activation at 0x7f797783bc88>, False),\n",
              " (<keras.layers.convolutional.Conv2D at 0x7f79777ce630>, False),\n",
              " (<keras.layers.normalization.BatchNormalization at 0x7f79777afda0>, False),\n",
              " (<keras.layers.core.Activation at 0x7f797776c6a0>, False),\n",
              " (<keras.layers.convolutional.Conv2D at 0x7f79776b9f28>, False),\n",
              " (<keras.layers.normalization.BatchNormalization at 0x7f797771a0b8>, False),\n",
              " (<keras.layers.merge.Add at 0x7f7977652f60>, False),\n",
              " (<keras.layers.core.Activation at 0x7f79775eedd8>, False),\n",
              " (<keras.layers.convolutional.Conv2D at 0x7f79775be2b0>, False),\n",
              " (<keras.layers.normalization.BatchNormalization at 0x7f79775dd240>, False),\n",
              " (<keras.layers.core.Activation at 0x7f7977539128>, False),\n",
              " (<keras.layers.convolutional.Conv2D at 0x7f7977522f28>, False),\n",
              " (<keras.layers.normalization.BatchNormalization at 0x7f7977501ef0>, False),\n",
              " (<keras.layers.core.Activation at 0x7f79774c4898>, False),\n",
              " (<keras.layers.convolutional.Conv2D at 0x7f7977459358>, False),\n",
              " (<keras.layers.convolutional.Conv2D at 0x7f7977428f98>, False),\n",
              " (<keras.layers.normalization.BatchNormalization at 0x7f79773f1828>, False),\n",
              " (<keras.layers.normalization.BatchNormalization at 0x7f7977354e10>, False),\n",
              " (<keras.layers.merge.Add at 0x7f79772aedd8>, False),\n",
              " (<keras.layers.core.Activation at 0x7f79772a9780>, False),\n",
              " (<keras.layers.convolutional.Conv2D at 0x7f79772a9748>, False),\n",
              " (<keras.layers.normalization.BatchNormalization at 0x7f7977217160>, False),\n",
              " (<keras.layers.core.Activation at 0x7f79771865c0>, False),\n",
              " (<keras.layers.convolutional.Conv2D at 0x7f797712dcc0>, False),\n",
              " (<keras.layers.normalization.BatchNormalization at 0x7f79771626d8>, False),\n",
              " (<keras.layers.core.Activation at 0x7f797711e908>, False),\n",
              " (<keras.layers.convolutional.Conv2D at 0x7f7976fff588>, False),\n",
              " (<keras.layers.normalization.BatchNormalization at 0x7f7977063cf8>, False),\n",
              " (<keras.layers.merge.Add at 0x7f79770216a0>, False),\n",
              " (<keras.layers.core.Activation at 0x7f7976f4a7f0>, False),\n",
              " (<keras.layers.convolutional.Conv2D at 0x7f7976f4a438>, False),\n",
              " (<keras.layers.normalization.BatchNormalization at 0x7f7976f08208>, False),\n",
              " (<keras.layers.core.Activation at 0x7f7976e830b8>, False),\n",
              " (<keras.layers.convolutional.Conv2D at 0x7f7976e35c18>, False),\n",
              " (<keras.layers.normalization.BatchNormalization at 0x7f7976e4ef60>, False),\n",
              " (<keras.layers.core.Activation at 0x7f7976e119b0>, False),\n",
              " (<keras.layers.convolutional.Conv2D at 0x7f7976da12e8>, False),\n",
              " (<keras.layers.normalization.BatchNormalization at 0x7f7976d39780>, False),\n",
              " (<keras.layers.merge.Add at 0x7f7976cf7f98>, False),\n",
              " (<keras.layers.core.Activation at 0x7f7976c8aba8>, False),\n",
              " (<keras.layers.convolutional.Conv2D at 0x7f7976c8abe0>, False),\n",
              " (<keras.layers.normalization.BatchNormalization at 0x7f7976bf9780>, False),\n",
              " (<keras.layers.core.Activation at 0x7f7976bc8b38>, False),\n",
              " (<keras.layers.convolutional.Conv2D at 0x7f7976b634e0>, False),\n",
              " (<keras.layers.normalization.BatchNormalization at 0x7f7976b41f98>, False),\n",
              " (<keras.layers.core.Activation at 0x7f7976afb5f8>, False),\n",
              " (<keras.layers.convolutional.Conv2D at 0x7f7976a8ecf8>, False),\n",
              " (<keras.layers.normalization.BatchNormalization at 0x7f7976aa8f60>, False),\n",
              " (<keras.layers.merge.Add at 0x7f7976a698d0>, False),\n",
              " (<keras.layers.core.Activation at 0x7f79769e0e80>, False),\n",
              " (<keras.layers.convolutional.Conv2D at 0x7f79769e0dd8>, False),\n",
              " (<keras.layers.normalization.BatchNormalization at 0x7f797694eda0>, False),\n",
              " (<keras.layers.core.Activation at 0x7f79768bd5f8>, False),\n",
              " (<keras.layers.convolutional.Conv2D at 0x7f79768e2ac8>, False),\n",
              " (<keras.layers.normalization.BatchNormalization at 0x7f79768966a0>, False),\n",
              " (<keras.layers.core.Activation at 0x7f7976853d68>, False),\n",
              " (<keras.layers.convolutional.Conv2D at 0x7f7976736588>, False),\n",
              " (<keras.layers.normalization.BatchNormalization at 0x7f797677fa20>, False),\n",
              " (<keras.layers.merge.Add at 0x7f79767556a0>, False),\n",
              " (<keras.layers.core.Activation at 0x7f79766ccfd0>, False),\n",
              " (<keras.layers.convolutional.Conv2D at 0x7f79766cc860>, False),\n",
              " (<keras.layers.normalization.BatchNormalization at 0x7f797663e240>, False),\n",
              " (<keras.layers.core.Activation at 0x7f79765b80b8>, False),\n",
              " (<keras.layers.convolutional.Conv2D at 0x7f79765a4ac8>, False),\n",
              " (<keras.layers.normalization.BatchNormalization at 0x7f7976583f60>, False),\n",
              " (<keras.layers.core.Activation at 0x7f79765459b0>, False),\n",
              " (<keras.layers.convolutional.Conv2D at 0x7f79764d72e8>, False),\n",
              " (<keras.layers.normalization.BatchNormalization at 0x7f797646f7b8>, False),\n",
              " (<keras.layers.merge.Add at 0x7f797642ef98>, False),\n",
              " (<keras.layers.core.Activation at 0x7f79763c0ba8>, False),\n",
              " (<keras.layers.convolutional.Conv2D at 0x7f79763c0be0>, False),\n",
              " (<keras.layers.normalization.BatchNormalization at 0x7f797632d780>, False),\n",
              " (<keras.layers.core.Activation at 0x7f79762fbb38>, False),\n",
              " (<keras.layers.convolutional.Conv2D at 0x7f79762984a8>, False),\n",
              " (<keras.layers.normalization.BatchNormalization at 0x7f797656bb38>, False),\n",
              " (<keras.layers.core.Activation at 0x7f79762375c0>, False),\n",
              " (<keras.layers.convolutional.Conv2D at 0x7f79761c5cf8>, False),\n",
              " (<keras.layers.convolutional.Conv2D at 0x7f797619d908>, False),\n",
              " (<keras.layers.normalization.BatchNormalization at 0x7f79761def60>, False),\n",
              " (<keras.layers.normalization.BatchNormalization at 0x7f79760ccc50>, False),\n",
              " (<keras.layers.merge.Add at 0x7f7976084fd0>, False),\n",
              " (<keras.layers.core.Activation at 0x7f796df40f60>, False),\n",
              " (<keras.layers.convolutional.Conv2D at 0x7f796dfa2668>, False),\n",
              " (<keras.layers.normalization.BatchNormalization at 0x7f796df65978>, False),\n",
              " (<keras.layers.core.Activation at 0x7f796ded74e0>, False),\n",
              " (<keras.layers.convolutional.Conv2D at 0x7f796de8db70>, False),\n",
              " (<keras.layers.normalization.BatchNormalization at 0x7f796dea7f98>, False),\n",
              " (<keras.layers.core.Activation at 0x7f796de65908>, False),\n",
              " (<keras.layers.convolutional.Conv2D at 0x7f796dde0a20>, False),\n",
              " (<keras.layers.normalization.BatchNormalization at 0x7f796dd90710>, False),\n",
              " (<keras.layers.merge.Add at 0x7f796dd4f940>, False),\n",
              " (<keras.layers.core.Activation at 0x7f796dcdb9e8>, False),\n",
              " (<keras.layers.convolutional.Conv2D at 0x7f796dcdbb38>, False),\n",
              " (<keras.layers.normalization.BatchNormalization at 0x7f796dc4fcc0>, False),\n",
              " (<keras.layers.core.Activation at 0x7f796dc1ea90>, False),\n",
              " (<keras.layers.convolutional.Conv2D at 0x7f796dbbb438>, False),\n",
              " (<keras.layers.normalization.BatchNormalization at 0x7f796db99f60>, False),\n",
              " (<keras.layers.core.Activation at 0x7f796db583c8>, False),\n",
              " (<keras.layers.convolutional.Conv2D at 0x7f796dae5c50>, False),\n",
              " (<keras.layers.normalization.BatchNormalization at 0x7f796dafceb8>, False),\n",
              " (<keras.layers.merge.Add at 0x7f796dabf828>, False),\n",
              " (<keras.layers.core.Activation at 0x7f796da37cf8>, False),\n",
              " (<keras.layers.pooling.GlobalAveragePooling2D at 0x7f796cc28b00>, True),\n",
              " (<keras.layers.core.Dense at 0x7f796cc92cf8>, True),\n",
              " (<keras.layers.normalization.BatchNormalization at 0x7f796cc92358>, True),\n",
              " (<keras.layers.core.Activation at 0x7f796ccae518>, True),\n",
              " (<keras.layers.core.Dropout at 0x7f796cd45b38>, True),\n",
              " (<keras.layers.core.Dense at 0x7f79d1fcd278>, True),\n",
              " (<keras.layers.normalization.BatchNormalization at 0x7f79d1fcd0f0>, True),\n",
              " (<keras.layers.core.Activation at 0x7f796cb69b00>, True),\n",
              " (<keras.layers.core.Dropout at 0x7f796cb4bef0>, True),\n",
              " (<keras.layers.core.Dense at 0x7f796cb0b7b8>, True)]"
            ]
          },
          "metadata": {
            "tags": []
          },
          "execution_count": 17
        }
      ]
    },
    {
      "cell_type": "code",
      "metadata": {
        "id": "3NUzzIeq7QXM",
        "colab_type": "code",
        "colab": {
          "base_uri": "https://localhost:8080/",
          "height": 33
        },
        "outputId": "9c5b1bc5-6198-4b28-dda7-fddd5f3ffd17"
      },
      "source": [
        "# divide the dataframe into training and validation dataframe\n",
        "df = df.sample(frac=1, random_state=12).reset_index(drop=True)\n",
        "train, valid = train_test_split(df, test_size=0.2, random_state = 12)\n",
        "train.reset_index(drop = True, inplace = True)\n",
        "valid.reset_index(drop = True, inplace = True)\n",
        "train.shape, valid.shape"
      ],
      "execution_count": 18,
      "outputs": [
        {
          "output_type": "execute_result",
          "data": {
            "text/plain": [
              "((634, 4), (159, 4))"
            ]
          },
          "metadata": {
            "tags": []
          },
          "execution_count": 18
        }
      ]
    },
    {
      "cell_type": "code",
      "metadata": {
        "id": "F5RMLy7L7QXR",
        "colab_type": "code",
        "colab": {}
      },
      "source": [
        "# divide into x and y train and test\n",
        "X_train, y_train = train['image'], train['class_encoded']\n",
        "X_test, y_test = valid['image'], valid['class_encoded']\n",
        "\n",
        "# make the Pandas series into numpy ndarray\n",
        "X_train = np.array([image for image in X_train])\n",
        "X_test = np.array([image for image in X_test])\n",
        "\n",
        "# preprocess the images for feeding into the resnet model\n",
        "X_train = resnet50.preprocess_input(X_train)\n",
        "X_test = resnet50.preprocess_input(X_test)\n",
        "\n",
        "# one hot encode the target variables\n",
        "y_train = to_categorical(y_train)\n",
        "y_test = to_categorical(y_test)"
      ],
      "execution_count": 0,
      "outputs": []
    },
    {
      "cell_type": "code",
      "metadata": {
        "id": "Ez7PX1zp7QXf",
        "colab_type": "code",
        "colab": {
          "base_uri": "https://localhost:8080/",
          "height": 70
        },
        "outputId": "cfcc7a3c-1a53-4637-b109-588bc1b52f3d"
      },
      "source": [
        "opt = Adam(lr=0.0001)\n",
        "model.compile(optimizer=opt, loss='categorical_crossentropy', metrics=['accuracy'])"
      ],
      "execution_count": 20,
      "outputs": [
        {
          "output_type": "stream",
          "text": [
            "W0818 15:15:47.054345 140162596165504 deprecation_wrapper.py:119] From /usr/local/lib/python3.6/dist-packages/keras/optimizers.py:790: The name tf.train.Optimizer is deprecated. Please use tf.compat.v1.train.Optimizer instead.\n",
            "\n"
          ],
          "name": "stderr"
        }
      ]
    },
    {
      "cell_type": "code",
      "metadata": {
        "id": "ozakVaTy7QXn",
        "colab_type": "code",
        "colab": {
          "base_uri": "https://localhost:8080/",
          "height": 443
        },
        "outputId": "1e7b1a86-5f3e-408d-bc27-0855cd23829d"
      },
      "source": [
        "model.fit(X_train, y_train, validation_split=0.2, epochs=10, batch_size = 32)"
      ],
      "execution_count": 21,
      "outputs": [
        {
          "output_type": "stream",
          "text": [
            "W0818 15:15:47.181389 140162596165504 deprecation.py:323] From /usr/local/lib/python3.6/dist-packages/tensorflow/python/ops/math_grad.py:1250: add_dispatch_support.<locals>.wrapper (from tensorflow.python.ops.array_ops) is deprecated and will be removed in a future version.\n",
            "Instructions for updating:\n",
            "Use tf.where in 2.0, which has the same broadcast rule as np.where\n"
          ],
          "name": "stderr"
        },
        {
          "output_type": "stream",
          "text": [
            "Train on 507 samples, validate on 127 samples\n",
            "Epoch 1/10\n",
            "507/507 [==============================] - 12s 23ms/step - loss: 3.0355 - acc: 0.0966 - val_loss: 2.6278 - val_acc: 0.1654\n",
            "Epoch 2/10\n",
            "507/507 [==============================] - 3s 6ms/step - loss: 2.5346 - acc: 0.1992 - val_loss: 2.3185 - val_acc: 0.2756\n",
            "Epoch 3/10\n",
            "507/507 [==============================] - 3s 6ms/step - loss: 2.1729 - acc: 0.3116 - val_loss: 2.0907 - val_acc: 0.3701\n",
            "Epoch 4/10\n",
            "507/507 [==============================] - 3s 6ms/step - loss: 1.9147 - acc: 0.3767 - val_loss: 1.9382 - val_acc: 0.4094\n",
            "Epoch 5/10\n",
            "507/507 [==============================] - 3s 6ms/step - loss: 1.7713 - acc: 0.4497 - val_loss: 1.8333 - val_acc: 0.4567\n",
            "Epoch 6/10\n",
            "507/507 [==============================] - 3s 6ms/step - loss: 1.6449 - acc: 0.4970 - val_loss: 1.7468 - val_acc: 0.4724\n",
            "Epoch 7/10\n",
            "507/507 [==============================] - 3s 6ms/step - loss: 1.5250 - acc: 0.5621 - val_loss: 1.6782 - val_acc: 0.5276\n",
            "Epoch 8/10\n",
            "507/507 [==============================] - 3s 6ms/step - loss: 1.4032 - acc: 0.5957 - val_loss: 1.6357 - val_acc: 0.5354\n",
            "Epoch 9/10\n",
            "507/507 [==============================] - 3s 6ms/step - loss: 1.3154 - acc: 0.6331 - val_loss: 1.5976 - val_acc: 0.5276\n",
            "Epoch 10/10\n",
            "507/507 [==============================] - 3s 6ms/step - loss: 1.2456 - acc: 0.7120 - val_loss: 1.5619 - val_acc: 0.5512\n"
          ],
          "name": "stdout"
        },
        {
          "output_type": "execute_result",
          "data": {
            "text/plain": [
              "<keras.callbacks.History at 0x7f796cc194e0>"
            ]
          },
          "metadata": {
            "tags": []
          },
          "execution_count": 21
        }
      ]
    },
    {
      "cell_type": "code",
      "metadata": {
        "id": "x9RthFfP7QXt",
        "colab_type": "code",
        "colab": {
          "base_uri": "https://localhost:8080/",
          "height": 50
        },
        "outputId": "18a55938-5ee1-4d27-ccbe-be02d7d51e2c"
      },
      "source": [
        "model.evaluate(X_test, y_test)"
      ],
      "execution_count": 22,
      "outputs": [
        {
          "output_type": "stream",
          "text": [
            "159/159 [==============================] - 1s 5ms/step\n"
          ],
          "name": "stdout"
        },
        {
          "output_type": "execute_result",
          "data": {
            "text/plain": [
              "[1.433834081175942, 0.578616349577154]"
            ]
          },
          "metadata": {
            "tags": []
          },
          "execution_count": 22
        }
      ]
    },
    {
      "cell_type": "markdown",
      "metadata": {
        "id": "MzTwyEv1iz_R",
        "colab_type": "text"
      },
      "source": [
        "Data Augmentation"
      ]
    },
    {
      "cell_type": "code",
      "metadata": {
        "id": "AEAPAvr2bbXa",
        "colab_type": "code",
        "colab": {}
      },
      "source": [
        "# divide into x and y train and test\n",
        "X_train, y_train = train['image'], train['class_encoded']\n",
        "X_test, y_test = valid['image'], valid['class_encoded']\n",
        "\n",
        "# make the Pandas series into numpy ndarray\n",
        "X_train = np.array([image for image in X_train])\n",
        "X_test = np.array([image for image in X_test])\n",
        "\n",
        "X_train_n, X_valid, y_train_n, y_valid = train_test_split(X_train, y_train, test_size=0.2, random_state = 12)\n",
        "\n",
        "# preprocess the images for feeding into the resnet model\n",
        "X_train_p = resnet50.preprocess_input(X_train_n)\n",
        "X_valid_p = resnet50.preprocess_input(X_valid)\n",
        "X_test_p = resnet50.preprocess_input(X_test)\n",
        "\n",
        "# one hot encode the target variables\n",
        "y_train_c = to_categorical(y_train_n)\n",
        "y_valid_c = to_categorical(y_valid)\n",
        "y_test_c = to_categorical(y_test)"
      ],
      "execution_count": 0,
      "outputs": []
    },
    {
      "cell_type": "code",
      "metadata": {
        "id": "TCEsIkGSayhZ",
        "colab_type": "code",
        "colab": {
          "base_uri": "https://localhost:8080/",
          "height": 33
        },
        "outputId": "72aa4825-b85f-4189-b1cb-de822b0e9da9"
      },
      "source": [
        "X_train_p.shape, X_valid_p.shape, y_train_c.shape, y_valid_c.shape"
      ],
      "execution_count": 24,
      "outputs": [
        {
          "output_type": "execute_result",
          "data": {
            "text/plain": [
              "((507, 256, 256, 3), (127, 256, 256, 3), (507, 16), (127, 16))"
            ]
          },
          "metadata": {
            "tags": []
          },
          "execution_count": 24
        }
      ]
    },
    {
      "cell_type": "code",
      "metadata": {
        "id": "WE-1nErmb8cn",
        "colab_type": "code",
        "colab": {}
      },
      "source": [
        "datagen = ImageDataGenerator(\n",
        "        width_shift_range=0.2,\n",
        "        shear_range=0.2,\n",
        "        zoom_range=0.2,\n",
        "        horizontal_flip=True,\n",
        "        fill_mode='nearest')"
      ],
      "execution_count": 0,
      "outputs": []
    },
    {
      "cell_type": "code",
      "metadata": {
        "id": "DQkaQ3iVdb4J",
        "colab_type": "code",
        "colab": {}
      },
      "source": [
        "datagen.fit(X_train_p)"
      ],
      "execution_count": 0,
      "outputs": []
    },
    {
      "cell_type": "code",
      "metadata": {
        "id": "30eFtrBJd2cQ",
        "colab_type": "code",
        "colab": {
          "base_uri": "https://localhost:8080/",
          "height": 1000
        },
        "outputId": "5d31de18-2104-446d-9472-9f841d2c2259"
      },
      "source": [
        "model.fit_generator(datagen.flow(X_train_p, y_train_c,\n",
        "                    batch_size=32),\n",
        "                    samples_per_epoch=X_train_n.shape[0],\n",
        "                    nb_epoch=30,\n",
        "                    validation_data=(X_valid_p, y_valid_c))"
      ],
      "execution_count": 28,
      "outputs": [
        {
          "output_type": "stream",
          "text": [
            "/usr/local/lib/python3.6/dist-packages/ipykernel_launcher.py:5: UserWarning: The semantics of the Keras 2 argument `steps_per_epoch` is not the same as the Keras 1 argument `samples_per_epoch`. `steps_per_epoch` is the number of batches to draw from the generator at each epoch. Basically steps_per_epoch = samples_per_epoch/batch_size. Similarly `nb_val_samples`->`validation_steps` and `val_samples`->`steps` arguments have changed. Update your method calls accordingly.\n",
            "  \"\"\"\n",
            "/usr/local/lib/python3.6/dist-packages/ipykernel_launcher.py:5: UserWarning: Update your `fit_generator` call to the Keras 2 API: `fit_generator(<keras_pre..., validation_data=(array([[[..., steps_per_epoch=15, epochs=30)`\n",
            "  \"\"\"\n"
          ],
          "name": "stderr"
        },
        {
          "output_type": "stream",
          "text": [
            "Epoch 1/30\n",
            "15/15 [==============================] - 7s 482ms/step - loss: 1.4873 - acc: 0.5771 - val_loss: 0.9999 - val_acc: 0.7323\n",
            "Epoch 2/30\n",
            "15/15 [==============================] - 7s 439ms/step - loss: 1.4045 - acc: 0.5770 - val_loss: 0.9777 - val_acc: 0.7480\n",
            "Epoch 3/30\n",
            "15/15 [==============================] - 7s 441ms/step - loss: 1.4004 - acc: 0.5679 - val_loss: 0.9630 - val_acc: 0.7480\n",
            "Epoch 4/30\n",
            "15/15 [==============================] - 7s 441ms/step - loss: 1.2983 - acc: 0.6496 - val_loss: 0.9498 - val_acc: 0.7559\n",
            "Epoch 5/30\n",
            "15/15 [==============================] - 7s 448ms/step - loss: 1.2693 - acc: 0.6615 - val_loss: 0.9526 - val_acc: 0.7480\n",
            "Epoch 6/30\n",
            "15/15 [==============================] - 7s 451ms/step - loss: 1.2036 - acc: 0.6528 - val_loss: 0.9444 - val_acc: 0.7480\n",
            "Epoch 7/30\n",
            "15/15 [==============================] - 7s 443ms/step - loss: 1.2206 - acc: 0.6559 - val_loss: 0.9410 - val_acc: 0.7480\n",
            "Epoch 8/30\n",
            "15/15 [==============================] - 7s 444ms/step - loss: 1.1485 - acc: 0.7060 - val_loss: 0.9361 - val_acc: 0.7480\n",
            "Epoch 9/30\n",
            "15/15 [==============================] - 7s 450ms/step - loss: 1.0588 - acc: 0.7168 - val_loss: 0.9287 - val_acc: 0.7480\n",
            "Epoch 10/30\n",
            "15/15 [==============================] - 7s 452ms/step - loss: 1.0824 - acc: 0.7202 - val_loss: 0.9269 - val_acc: 0.7638\n",
            "Epoch 11/30\n",
            "15/15 [==============================] - 7s 450ms/step - loss: 1.0047 - acc: 0.7306 - val_loss: 0.9279 - val_acc: 0.7559\n",
            "Epoch 12/30\n",
            "15/15 [==============================] - 7s 449ms/step - loss: 0.9812 - acc: 0.7543 - val_loss: 0.9264 - val_acc: 0.7559\n",
            "Epoch 13/30\n",
            "15/15 [==============================] - 7s 450ms/step - loss: 0.9537 - acc: 0.7737 - val_loss: 0.9213 - val_acc: 0.7638\n",
            "Epoch 14/30\n",
            "15/15 [==============================] - 7s 450ms/step - loss: 0.9715 - acc: 0.7529 - val_loss: 0.9158 - val_acc: 0.7638\n",
            "Epoch 15/30\n",
            "15/15 [==============================] - 7s 450ms/step - loss: 0.9542 - acc: 0.7536 - val_loss: 0.9091 - val_acc: 0.7717\n",
            "Epoch 16/30\n",
            "15/15 [==============================] - 7s 484ms/step - loss: 0.9280 - acc: 0.7588 - val_loss: 0.9014 - val_acc: 0.7638\n",
            "Epoch 17/30\n",
            "15/15 [==============================] - 6s 428ms/step - loss: 0.9027 - acc: 0.7729 - val_loss: 0.9015 - val_acc: 0.7638\n",
            "Epoch 18/30\n",
            "15/15 [==============================] - 7s 452ms/step - loss: 0.8558 - acc: 0.7838 - val_loss: 0.9004 - val_acc: 0.7638\n",
            "Epoch 19/30\n",
            "15/15 [==============================] - 7s 450ms/step - loss: 0.8283 - acc: 0.8123 - val_loss: 0.8954 - val_acc: 0.7638\n",
            "Epoch 20/30\n",
            "15/15 [==============================] - 7s 449ms/step - loss: 0.8171 - acc: 0.7994 - val_loss: 0.8997 - val_acc: 0.7559\n",
            "Epoch 21/30\n",
            "15/15 [==============================] - 7s 445ms/step - loss: 0.8577 - acc: 0.7748 - val_loss: 0.9045 - val_acc: 0.7480\n",
            "Epoch 22/30\n",
            "15/15 [==============================] - 7s 450ms/step - loss: 0.7611 - acc: 0.8325 - val_loss: 0.8934 - val_acc: 0.7480\n",
            "Epoch 23/30\n",
            "15/15 [==============================] - 7s 450ms/step - loss: 0.7684 - acc: 0.8339 - val_loss: 0.8899 - val_acc: 0.7480\n",
            "Epoch 24/30\n",
            "15/15 [==============================] - 7s 451ms/step - loss: 0.7529 - acc: 0.8276 - val_loss: 0.8919 - val_acc: 0.7402\n",
            "Epoch 25/30\n",
            "15/15 [==============================] - 7s 445ms/step - loss: 0.7575 - acc: 0.8488 - val_loss: 0.8860 - val_acc: 0.7480\n",
            "Epoch 26/30\n",
            "15/15 [==============================] - 7s 449ms/step - loss: 0.7367 - acc: 0.8147 - val_loss: 0.8866 - val_acc: 0.7638\n",
            "Epoch 27/30\n",
            "15/15 [==============================] - 7s 453ms/step - loss: 0.6989 - acc: 0.8390 - val_loss: 0.8865 - val_acc: 0.7559\n",
            "Epoch 28/30\n",
            "15/15 [==============================] - 7s 445ms/step - loss: 0.6767 - acc: 0.8627 - val_loss: 0.8831 - val_acc: 0.7559\n",
            "Epoch 29/30\n",
            "15/15 [==============================] - 7s 445ms/step - loss: 0.6591 - acc: 0.8547 - val_loss: 0.8831 - val_acc: 0.7480\n",
            "Epoch 30/30\n",
            "15/15 [==============================] - 7s 448ms/step - loss: 0.6462 - acc: 0.8467 - val_loss: 0.8867 - val_acc: 0.7480\n"
          ],
          "name": "stdout"
        },
        {
          "output_type": "execute_result",
          "data": {
            "text/plain": [
              "<keras.callbacks.History at 0x7f796c1c6198>"
            ]
          },
          "metadata": {
            "tags": []
          },
          "execution_count": 28
        }
      ]
    },
    {
      "cell_type": "code",
      "metadata": {
        "id": "xGKCWQdUeIlc",
        "colab_type": "code",
        "colab": {
          "base_uri": "https://localhost:8080/",
          "height": 50
        },
        "outputId": "fcc40909-f773-4aaf-ea24-a70ab6a02e7d"
      },
      "source": [
        "model.evaluate(X_test_p, y_test_c)"
      ],
      "execution_count": 29,
      "outputs": [
        {
          "output_type": "stream",
          "text": [
            "159/159 [==============================] - 1s 6ms/step\n"
          ],
          "name": "stdout"
        },
        {
          "output_type": "execute_result",
          "data": {
            "text/plain": [
              "[1.0787548599003245, 0.7106918261486029]"
            ]
          },
          "metadata": {
            "tags": []
          },
          "execution_count": 29
        }
      ]
    },
    {
      "cell_type": "code",
      "metadata": {
        "id": "HGzH6gc7R-8s",
        "colab_type": "code",
        "colab": {
          "base_uri": "https://localhost:8080/",
          "height": 50
        },
        "outputId": "a99ff32c-3bb9-4eae-ed51-4b77d54d49ba"
      },
      "source": [
        "densenet_model = DenseNet121(weights='imagenet', include_top=False, input_shape= (256,256,3))"
      ],
      "execution_count": 41,
      "outputs": [
        {
          "output_type": "stream",
          "text": [
            "Downloading data from https://github.com/keras-team/keras-applications/releases/download/densenet/densenet121_weights_tf_dim_ordering_tf_kernels_notop.h5\n",
            "29089792/29084464 [==============================] - 1s 0us/step\n"
          ],
          "name": "stdout"
        }
      ]
    },
    {
      "cell_type": "code",
      "metadata": {
        "id": "ZJ_LrQPzUqcj",
        "colab_type": "code",
        "colab": {}
      },
      "source": [
        "# freeze all the parameters of the densenet model\n",
        "for layer in resnet_model.layers:\n",
        "    layer.trainable=False"
      ],
      "execution_count": 0,
      "outputs": []
    },
    {
      "cell_type": "code",
      "metadata": {
        "id": "Nwsk1w91VDT9",
        "colab_type": "code",
        "colab": {}
      },
      "source": [
        "# add our own layers\n",
        "x = densenet_model.output\n",
        "x = GlobalAveragePooling2D()(x)\n",
        "x = Dense(256)(x) \n",
        "x = BatchNormalization()(x)\n",
        "x = Activation('tanh')(x)\n",
        "x = Dropout(0.4)(x)\n",
        "x = Dense(64)(x) \n",
        "x = BatchNormalization()(x)\n",
        "x = Activation('tanh')(x)\n",
        "x = Dropout(0.4)(x)\n",
        "preds = Dense(16, activation='softmax')(x)"
      ],
      "execution_count": 0,
      "outputs": []
    },
    {
      "cell_type": "code",
      "metadata": {
        "id": "XNAQyM5RVeCT",
        "colab_type": "code",
        "colab": {}
      },
      "source": [
        "model=Model(inputs=densenet_model.input,outputs=preds)\n",
        "opt = Adam(lr=0.0001)\n",
        "model.compile(optimizer=opt, loss='categorical_crossentropy', metrics=['accuracy'])"
      ],
      "execution_count": 0,
      "outputs": []
    },
    {
      "cell_type": "code",
      "metadata": {
        "id": "1WW7uwphVHYE",
        "colab_type": "code",
        "colab": {
          "base_uri": "https://localhost:8080/",
          "height": 1000
        },
        "outputId": "8eed747e-6da7-4607-b687-3410250910f8"
      },
      "source": [
        "model.fit_generator(datagen.flow(X_train_p, y_train_c,\n",
        "                    batch_size=32),\n",
        "                    samples_per_epoch=X_train_n.shape[0],\n",
        "                    nb_epoch=30,\n",
        "                    validation_data=(X_valid_p, y_valid_c))"
      ],
      "execution_count": 45,
      "outputs": [
        {
          "output_type": "stream",
          "text": [
            "/usr/local/lib/python3.6/dist-packages/ipykernel_launcher.py:5: UserWarning: The semantics of the Keras 2 argument `steps_per_epoch` is not the same as the Keras 1 argument `samples_per_epoch`. `steps_per_epoch` is the number of batches to draw from the generator at each epoch. Basically steps_per_epoch = samples_per_epoch/batch_size. Similarly `nb_val_samples`->`validation_steps` and `val_samples`->`steps` arguments have changed. Update your method calls accordingly.\n",
            "  \"\"\"\n",
            "/usr/local/lib/python3.6/dist-packages/ipykernel_launcher.py:5: UserWarning: Update your `fit_generator` call to the Keras 2 API: `fit_generator(<keras_pre..., validation_data=(array([[[..., steps_per_epoch=15, epochs=30)`\n",
            "  \"\"\"\n"
          ],
          "name": "stderr"
        },
        {
          "output_type": "stream",
          "text": [
            "Epoch 1/30\n",
            "15/15 [==============================] - 43s 3s/step - loss: 2.8590 - acc: 0.1187 - val_loss: 2.2865 - val_acc: 0.2598\n",
            "Epoch 2/30\n",
            "15/15 [==============================] - 9s 626ms/step - loss: 2.2396 - acc: 0.2891 - val_loss: 1.9035 - val_acc: 0.4488\n",
            "Epoch 3/30\n",
            "15/15 [==============================] - 9s 603ms/step - loss: 1.8218 - acc: 0.4376 - val_loss: 1.7124 - val_acc: 0.5354\n",
            "Epoch 4/30\n",
            "15/15 [==============================] - 9s 608ms/step - loss: 1.5330 - acc: 0.5287 - val_loss: 1.6127 - val_acc: 0.5276\n",
            "Epoch 5/30\n",
            "15/15 [==============================] - 9s 605ms/step - loss: 1.3076 - acc: 0.6621 - val_loss: 1.5246 - val_acc: 0.5591\n",
            "Epoch 6/30\n",
            "15/15 [==============================] - 9s 602ms/step - loss: 1.1666 - acc: 0.7139 - val_loss: 1.4279 - val_acc: 0.6142\n",
            "Epoch 7/30\n",
            "15/15 [==============================] - 9s 598ms/step - loss: 1.0635 - acc: 0.7574 - val_loss: 1.3899 - val_acc: 0.6220\n",
            "Epoch 8/30\n",
            "15/15 [==============================] - 9s 595ms/step - loss: 0.9178 - acc: 0.7970 - val_loss: 1.3613 - val_acc: 0.6299\n",
            "Epoch 9/30\n",
            "15/15 [==============================] - 9s 598ms/step - loss: 0.8141 - acc: 0.8290 - val_loss: 1.3103 - val_acc: 0.6457\n",
            "Epoch 10/30\n",
            "15/15 [==============================] - 9s 596ms/step - loss: 0.7509 - acc: 0.8672 - val_loss: 1.2661 - val_acc: 0.6378\n",
            "Epoch 11/30\n",
            "15/15 [==============================] - 9s 598ms/step - loss: 0.6413 - acc: 0.8863 - val_loss: 1.2769 - val_acc: 0.6299\n",
            "Epoch 12/30\n",
            "15/15 [==============================] - 9s 599ms/step - loss: 0.5494 - acc: 0.9301 - val_loss: 1.2814 - val_acc: 0.6457\n",
            "Epoch 13/30\n",
            "15/15 [==============================] - 9s 601ms/step - loss: 0.5110 - acc: 0.9454 - val_loss: 1.2654 - val_acc: 0.6220\n",
            "Epoch 14/30\n",
            "15/15 [==============================] - 9s 602ms/step - loss: 0.4969 - acc: 0.9447 - val_loss: 1.2705 - val_acc: 0.6378\n",
            "Epoch 15/30\n",
            "15/15 [==============================] - 9s 600ms/step - loss: 0.4406 - acc: 0.9607 - val_loss: 1.2841 - val_acc: 0.6299\n",
            "Epoch 16/30\n",
            "15/15 [==============================] - 10s 668ms/step - loss: 0.4039 - acc: 0.9666 - val_loss: 1.2812 - val_acc: 0.6142\n",
            "Epoch 17/30\n",
            "15/15 [==============================] - 9s 603ms/step - loss: 0.3821 - acc: 0.9875 - val_loss: 1.2266 - val_acc: 0.6772\n",
            "Epoch 18/30\n",
            "15/15 [==============================] - 9s 598ms/step - loss: 0.3530 - acc: 0.9833 - val_loss: 1.2032 - val_acc: 0.6614\n",
            "Epoch 19/30\n",
            "15/15 [==============================] - 9s 600ms/step - loss: 0.3059 - acc: 0.9805 - val_loss: 1.2544 - val_acc: 0.6378\n",
            "Epoch 20/30\n",
            "15/15 [==============================] - 9s 599ms/step - loss: 0.3122 - acc: 0.9722 - val_loss: 1.2727 - val_acc: 0.6378\n",
            "Epoch 21/30\n",
            "15/15 [==============================] - 9s 603ms/step - loss: 0.2657 - acc: 0.9875 - val_loss: 1.2713 - val_acc: 0.6614\n",
            "Epoch 22/30\n",
            "15/15 [==============================] - 9s 603ms/step - loss: 0.2498 - acc: 0.9875 - val_loss: 1.2684 - val_acc: 0.6614\n",
            "Epoch 23/30\n",
            "15/15 [==============================] - 9s 600ms/step - loss: 0.2252 - acc: 0.9896 - val_loss: 1.2444 - val_acc: 0.6535\n",
            "Epoch 24/30\n",
            "15/15 [==============================] - 9s 602ms/step - loss: 0.2184 - acc: 0.9979 - val_loss: 1.2485 - val_acc: 0.6299\n",
            "Epoch 25/30\n",
            "15/15 [==============================] - 9s 601ms/step - loss: 0.2100 - acc: 0.9958 - val_loss: 1.2540 - val_acc: 0.6614\n",
            "Epoch 26/30\n",
            "15/15 [==============================] - 9s 604ms/step - loss: 0.1884 - acc: 0.9958 - val_loss: 1.2123 - val_acc: 0.6378\n",
            "Epoch 27/30\n",
            "15/15 [==============================] - 9s 601ms/step - loss: 0.1839 - acc: 0.9913 - val_loss: 1.2162 - val_acc: 0.6535\n",
            "Epoch 28/30\n",
            "15/15 [==============================] - 9s 600ms/step - loss: 0.1884 - acc: 0.9937 - val_loss: 1.2171 - val_acc: 0.6772\n",
            "Epoch 29/30\n",
            "15/15 [==============================] - 9s 602ms/step - loss: 0.1758 - acc: 0.9958 - val_loss: 1.2112 - val_acc: 0.6614\n",
            "Epoch 30/30\n",
            "15/15 [==============================] - 9s 601ms/step - loss: 0.1668 - acc: 1.0000 - val_loss: 1.2004 - val_acc: 0.6772\n"
          ],
          "name": "stdout"
        },
        {
          "output_type": "execute_result",
          "data": {
            "text/plain": [
              "<keras.callbacks.History at 0x7f75a09abf60>"
            ]
          },
          "metadata": {
            "tags": []
          },
          "execution_count": 45
        }
      ]
    },
    {
      "cell_type": "code",
      "metadata": {
        "id": "03Qf--fcVvOC",
        "colab_type": "code",
        "colab": {
          "base_uri": "https://localhost:8080/",
          "height": 50
        },
        "outputId": "e3b9a28b-1e23-4676-c6b3-0cd7950aa0c1"
      },
      "source": [
        "model.evaluate(X_test_p, y_test_c)"
      ],
      "execution_count": 46,
      "outputs": [
        {
          "output_type": "stream",
          "text": [
            "159/159 [==============================] - 1s 6ms/step\n"
          ],
          "name": "stdout"
        },
        {
          "output_type": "execute_result",
          "data": {
            "text/plain": [
              "[1.2552901004095498, 0.6226415120580662]"
            ]
          },
          "metadata": {
            "tags": []
          },
          "execution_count": 46
        }
      ]
    },
    {
      "cell_type": "code",
      "metadata": {
        "id": "6j3A5A4YYNqb",
        "colab_type": "code",
        "colab": {}
      },
      "source": [
        ""
      ],
      "execution_count": 0,
      "outputs": []
    }
  ]
}